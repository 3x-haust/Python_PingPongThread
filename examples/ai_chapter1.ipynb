{
 "cells": [
  {
   "cell_type": "code",
   "execution_count": null,
   "metadata": {},
   "outputs": [],
   "source": [
    "# 상위 폴더 경로 가져오기.\n",
    "from example_base import GetParentPath\n",
    "# 핑퐁 로봇 제어 모듈 import.\n",
    "from pingpongthread import PingPongThread"
   ]
  },
  {
   "cell_type": "code",
   "execution_count": null,
   "metadata": {},
   "outputs": [],
   "source": [
    "# 1개 로봇을 연결하는 인스턴스 생성.\n",
    "PingPongThreadInstance = PingPongThread(number=1, group_id=4)\n",
    "# 로봇 제어 쓰레드 시작.\n",
    "PingPongThreadInstance.start()\n",
    "# 모든 로봇이 연결될 때 까지 기다림.\n",
    "PingPongThreadInstance.wait_until_full_connect()"
   ]
  },
  {
   "cell_type": "code",
   "execution_count": null,
   "metadata": {},
   "outputs": [],
   "source": [
    "# 큐브 ID\n",
    "cube_ID = 1\n",
    "\n",
    "# 키보드 제어를 위한 모듈 import.\n",
    "import keyboard\n",
    "# 시간 제어를 위한 모듈 import.\n",
    "import time"
   ]
  },
  {
   "cell_type": "code",
   "execution_count": null,
   "metadata": {},
   "outputs": [],
   "source": [
    "### 01 근접 센서 명령어 블록\n",
    "\n",
    "# 근접 센서 데이터를 받기\n",
    "PingPongThreadInstance.receive_sensor_data(cube_ID, method=\"periodic\", period=0.5)\n",
    "# q가 눌리기 전까지 반복하는 루프\n",
    "while not keyboard.is_pressed(\"q\"): \n",
    "    # 현재 근접 센서값 출력\n",
    "    print(PingPongThreadInstance.get_current_proxy(cube_ID))\n",
    "    # 0.5초 기다리기\n",
    "    time.sleep(0.5)\n",
    "# 센서 데이터 받기 종료\n",
    "PingPongThreadInstance.stop_sensor_data(cube_ID) "
   ]
  },
  {
   "cell_type": "code",
   "execution_count": null,
   "metadata": {},
   "outputs": [],
   "source": [
    "### 02 스탭 모터 명령어 블록\n",
    "\n",
    "# 모터를 반시계 방향으로 90도 회전하기\n",
    "angle = 90/360 # 회전의 단위는 바퀴(rotation)\n",
    "speed = 15 # 속력의 단위는 RPM.\n",
    "PingPongThreadInstance.run_motor_step(cube_ID, speed, -angle)\n",
    "time.sleep(angle/speed*60)\n",
    "# 4초 기다리기\n",
    "time.sleep(4)\n",
    "# 모터를 시계방향으로 90도 회전하기\n",
    "PingPongThreadInstance.run_motor_step(cube_ID, speed, angle)\n",
    "time.sleep(angle/speed*60)"
   ]
  },
  {
   "cell_type": "code",
   "execution_count": null,
   "metadata": {},
   "outputs": [],
   "source": [
    "### 03 버튼 명령어 블록\n",
    "\n",
    "# 버튼 데이터를 받기\n",
    "PingPongThreadInstance.receive_sensor_data(cube_ID, method=\"periodic\", period=0.5)\n",
    "# 버튼을 누르는 것을 기다리는 루프\n",
    "while True: \n",
    "    # 버튼이 눌리면 \"안녕!\"을 출력\n",
    "    if PingPongThreadInstance.get_current_button(cube_ID) == 1:\n",
    "        print(\"안녕!\")\n",
    "        # 4초 기다리기\n",
    "        time.sleep(4)\n",
    "        break\n",
    "    # 0.5초 기다리기\n",
    "    time.sleep(0.5)\n",
    "# 센서 데이터 받기 종료\n",
    "PingPongThreadInstance.stop_sensor_data(cube_ID) "
   ]
  },
  {
   "cell_type": "code",
   "execution_count": null,
   "metadata": {},
   "outputs": [],
   "source": [
    "### 04 기울기 센서 명령어 블록\n",
    "\n",
    "# 센서 데이터를 받기\n",
    "PingPongThreadInstance.receive_sensor_data(cube_ID, method=\"periodic\", period=0.1)\n",
    "# 네모 방향으로 회전하는 것을 기다리는 루프\n",
    "while True: \n",
    "    gyro_value = PingPongThreadInstance.get_current_gyro(cube_ID)\n",
    "    # 네모 방향으로 빠르게 움직이면 \"네모 방향으로 회전하였습니다!\"를 출력\n",
    "    if gyro_value[0] < -90 and abs(gyro_value[1]) < 50 and abs(gyro_value[2]) < 50:\n",
    "        print(\"네모 방향으로 회전하였습니다!\")\n",
    "        break\n",
    "    # 0.1초 기다리기\n",
    "    time.sleep(0.1)\n",
    "# 센서 데이터 받기 종료\n",
    "PingPongThreadInstance.stop_sensor_data(cube_ID) "
   ]
  },
  {
   "cell_type": "code",
   "execution_count": null,
   "metadata": {},
   "outputs": [],
   "source": [
    "# 로봇 제어 쓰레드 종료.\n",
    "PingPongThreadInstance.end()"
   ]
  },
  {
   "cell_type": "code",
   "execution_count": null,
   "metadata": {},
   "outputs": [],
   "source": []
  }
 ],
 "metadata": {
  "kernelspec": {
   "display_name": "Python 3",
   "language": "python",
   "name": "python3"
  },
  "language_info": {
   "codemirror_mode": {
    "name": "ipython",
    "version": 3
   },
   "file_extension": ".py",
   "mimetype": "text/x-python",
   "name": "python",
   "nbconvert_exporter": "python",
   "pygments_lexer": "ipython3",
   "version": "3.6.6"
  }
 },
 "nbformat": 4,
 "nbformat_minor": 4
}
