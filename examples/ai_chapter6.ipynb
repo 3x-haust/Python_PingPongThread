{
 "cells": [
  {
   "cell_type": "code",
   "execution_count": 1,
   "metadata": {},
   "outputs": [],
   "source": [
    "# 상위 폴더 경로 가져오기.\n",
    "from example_base import GetParentPath\n",
    "# 핑퐁 로봇 제어 모듈 import.\n",
    "from pingpongthread import PingPongThread"
   ]
  },
  {
   "cell_type": "code",
   "execution_count": 2,
   "metadata": {},
   "outputs": [
    {
     "name": "stdout",
     "output_type": "stream",
     "text": [
      "Found device: nRF Connect USB CDC ACM(COM12)\n",
      "Serial connected.\n",
      "Write data: FF FF 04 FF 20 00 AD 00 0B 1A 04\n",
      "Connected with a master robot.\n",
      "Connected robots: 2\n",
      "Fully connected.\n"
     ]
    }
   ],
   "source": [
    "# 2개 로봇을 연결하는 인스턴스 생성.\n",
    "PingPongThreadInstance = PingPongThread(number=2, group_id=4)\n",
    "# 로봇 제어 쓰레드 시작.\n",
    "PingPongThreadInstance.start()\n",
    "# 모든 로봇이 연결될 때 까지 기다림.\n",
    "PingPongThreadInstance.wait_until_full_connect()"
   ]
  },
  {
   "cell_type": "code",
   "execution_count": 3,
   "metadata": {},
   "outputs": [],
   "source": [
    "# '우리나라 지폐' 사진 클래스 인스턴스, '위조 지폐' 클래스 인스턴스 생성.\n",
    "bill = PingPongThreadInstance.ImageClass(\"bill\", \"chapter6/bill\")\n",
    "fake = PingPongThreadInstance.ImageClass(\"fake\", \"chapter6/fake\")"
   ]
  },
  {
   "cell_type": "code",
   "execution_count": 4,
   "metadata": {},
   "outputs": [
    {
     "name": "stdout",
     "output_type": "stream",
     "text": [
      "Class bill : 8 images.\n",
      "Class fake : 8 images.\n",
      "Training done.\n",
      "chapter6/bill_model.json saved.\n"
     ]
    }
   ],
   "source": [
    "# 모델 학습. \n",
    "# 첫 번째 인수는 저장하는 이름, 두 번째 인수는 knn 알고리즘의 k 값, 세 번째 인수는 모델 모드. 네 번째 인수 이후는 클래스 인스턴스들.\n",
    "model = PingPongThreadInstance.train_classes(\"chapter6/bill_model.json\", 1, 2, bill, fake)"
   ]
  },
  {
   "cell_type": "code",
   "execution_count": 5,
   "metadata": {},
   "outputs": [
    {
     "name": "stdout",
     "output_type": "stream",
     "text": [
      "여기에 지폐를 인식시키면\n",
      "위조지폐 여부를 알 수 있대\n",
      "재미있겠다~ 빨리 해보자!\n"
     ]
    }
   ],
   "source": [
    "# 시간 제어를 위한 모듈 import.\n",
    "import time\n",
    "# 키보드 제어를 위한 모듈 import.\n",
    "import keyboard\n",
    "\n",
    "# 대사 출력.\n",
    "print(\"여기에 지폐를 인식시키면\")\n",
    "time.sleep(1)\n",
    "print(\"위조지폐 여부를 알 수 있대\")\n",
    "time.sleep(1)\n",
    "# '스페이스 바' 키를 누르면 진행.\n",
    "while True:\n",
    "    if keyboard.is_pressed(\" \"):\n",
    "        break\n",
    "    else:\n",
    "        time.sleep(0.01)\n",
    "time.sleep(4)\n",
    "print(\"재미있겠다~ 빨리 해보자!\")\n",
    "time.sleep(2)"
   ]
  },
  {
   "cell_type": "code",
   "execution_count": null,
   "metadata": {},
   "outputs": [],
   "source": [
    "# 대사 읽어주기.\n",
    "PingPongThreadInstance.tts_ko(\"지폐를 인식시켜 주세요\", True)\n",
    "time.sleep(2)"
   ]
  },
  {
   "cell_type": "code",
   "execution_count": 6,
   "metadata": {},
   "outputs": [],
   "source": [
    "# 웹캠 열기.\n",
    "# PingPongThreadInstance.webcam_open(0)\n",
    "PingPongThreadInstance.webcam_open(\"http://192.168.66.1:9527/videostream.cgi?loginuse=admin&loginpas=admin\")"
   ]
  },
  {
   "cell_type": "code",
   "execution_count": 7,
   "metadata": {},
   "outputs": [
    {
     "name": "stdout",
     "output_type": "stream",
     "text": [
      "Frame is False\n",
      "{'bill': 0, 'fake': 1}\n",
      "accum_prediction: {'fake': 1.0}\n",
      "Write data: FF FF 04 00 00 A1 E8 00 17 00 00 2C 3C 00 28 3C 00 2C 3C 00 28 3C 00\n",
      "위조 지폐\n",
      "위조 지폐\n",
      "Write data: FF FF 04 AA 20 00 CD 00 33 02 01 00 00 FF FF 04 00 20 00 C1 00 13 02 01 00 02 03 84 00 00 00 FA FF FF 04 01 20 00 C1 00 13 02 01 00 02 03 84 00 00 00 FA\n",
      "Timeout. Initialize buffer.\n",
      "Timeout buffer: 00 52 04 00 00 A1 E8 00 17 00 00\n",
      "Aggregator set.\n",
      "Write data: FF FF 04 AA 20 00 CD 00 33 02 01 00 00 FF FF 04 00 20 00 C1 00 13 02 01 00 02 FC 7C 00 00 00 FA FF FF 04 01 20 00 C1 00 13 02 01 00 02 FC 7C 00 00 00 FA\n",
      "Aggregator set.\n",
      "Write data: FF FF 04 AA 20 00 CD 00 33 02 01 00 00 FF FF 04 00 20 00 C1 00 13 02 01 00 02 FC 7C 00 00 00 FA FF FF 04 01 20 00 C1 00 13 02 01 00 02 FC 7C 00 00 00 FA\n",
      "Aggregator set.\n",
      "Write data: FF FF 04 AA 20 00 CD 00 33 02 01 00 00 FF FF 04 00 20 00 C1 00 13 02 01 00 02 03 84 00 00 00 FA FF FF 04 01 20 00 C1 00 13 02 01 00 02 03 84 00 00 00 FA\n",
      "Aggregator set.\n"
     ]
    }
   ],
   "source": [
    "# 프레임을 평가하는 인스턴스 생성. 누적 프레임은 3초 동안 보관.\n",
    "frames_predictor = PingPongThreadInstance.FramesPredictor(model=model, timer_sec=3)\n",
    "# 웹캠을 이용하여 지폐를 예측하는 루프.\n",
    "while True:\n",
    "    # 주피터 노트북 출력 비우기.\n",
    "    PingPongThreadInstance.clear_output()\n",
    "    # 현재 웹캠 프레임을 보여주고 가져오기.\n",
    "    frame = PingPongThreadInstance.webcam_get_frame(window=\"Get_frame\")\n",
    "    # 현재 프레임을 평가하고, 평가 내용을 누적.\n",
    "    frame_prediction = frames_predictor.image_predict_and_accum(frame)\n",
    "    print(frame_prediction)\n",
    "    # 누적된 평가 내용.\n",
    "    accum_prediction = frames_predictor.accum_predict()\n",
    "    # 누적된 평가 내용이 없으면 돌아가기. 아니면 가장 확률이 높은 클래스 확인.\n",
    "    if accum_prediction == None:\n",
    "        max_class = None\n",
    "        continue\n",
    "    else:\n",
    "        print(\"accum_prediction:\", accum_prediction)\n",
    "        # 가장 확률이 높은 클래스.\n",
    "        max_class = max(accum_prediction, key=accum_prediction.get)\n",
    "    # '우리나라 지폐'일 확률이 90% 이상일 때.\n",
    "    if max_class == \"bill\" and accum_prediction[max_class] > 0.9:\n",
    "        # 클래스 읽어주기.\n",
    "        PingPongThreadInstance.tts_ko(\"우리나라 지폐\", True)\n",
    "        # 50도만큼 1번 큐브를 반시계 방향으로 회전, 2번 큐브를 시계 방향으로 회전.\n",
    "        angle = 50/360\n",
    "        PingPongThreadInstance.run_motor_step([1, 2], 15, [-angle, angle])\n",
    "        time.sleep(angle/15*60)\n",
    "        # 50도만큼 1번 큐브를 시계 방향으로 회전, 2번 큐브를 반시계 방향으로 회전.\n",
    "        PingPongThreadInstance.run_motor_step([1, 2], 15, [angle, -angle])\n",
    "        time.sleep(angle/15*60)\n",
    "        break\n",
    "    # '위조 지폐'일 확률이 90% 이상일 때.\n",
    "    elif max_class == \"fake\" and accum_prediction[max_class] > 0.9:\n",
    "        # 반박자로 '미, 도, 미, 도' 연주.\n",
    "        PingPongThreadInstance.play_music(1, [\"mi\", \"do\", \"mi\", \"do\"], [\"half\"]*4)\n",
    "        # 클래스 읽어주기.\n",
    "        PingPongThreadInstance.tts_ko(\"위조 지폐\", True)\n",
    "        PingPongThreadInstance.tts_ko(\"위조 지폐\", True)\n",
    "        # 45도만큼 1번 큐브를 시계 방향으로 회전, 2번 큐브를 시계 방향으로 회전.\n",
    "        angle = 45/360\n",
    "        PingPongThreadInstance.run_motor_step([1, 2], 15, [angle, angle])\n",
    "        time.sleep(angle/15*60)\n",
    "        # 45도만큼 1번 큐브를 반시계 방향으로 회전, 2번 큐브를 반시계 방향으로 회전.\n",
    "        PingPongThreadInstance.run_motor_step([1, 2], 15, [-angle, -angle])\n",
    "        time.sleep(angle/15*60)\n",
    "        # 45도만큼 1번 큐브를 반시계 방향으로 회전, 2번 큐브를 반시계 방향으로 회전.\n",
    "        PingPongThreadInstance.run_motor_step([1, 2], 15, [-angle, -angle])\n",
    "        time.sleep(angle/15*60)\n",
    "        # 45도만큼 1번 큐브를 시계 방향으로 회전, 2번 큐브를 시계 방향으로 회전.\n",
    "        PingPongThreadInstance.run_motor_step([1, 2], 15, [angle, angle])\n",
    "        time.sleep(angle/15*60)\n",
    "        break\n",
    "    # 모두 아니면 돌아가기.\n",
    "    else:\n",
    "        continue"
   ]
  },
  {
   "cell_type": "code",
   "execution_count": 8,
   "metadata": {},
   "outputs": [
    {
     "name": "stdout",
     "output_type": "stream",
     "text": [
      "Write data: FF FF FF FF 00 00 A8 00 0A 01\n",
      "Disconnect master robot.\n",
      "Serial disconnected. Sleep 3 seconds.\n",
      "End thread.\n"
     ]
    }
   ],
   "source": [
    "# 웹캠 닫기.\n",
    "PingPongThreadInstance.webcam_close()\n",
    "# 로봇 제어 쓰레드 종료.\n",
    "PingPongThreadInstance.end()"
   ]
  },
  {
   "cell_type": "code",
   "execution_count": null,
   "metadata": {},
   "outputs": [],
   "source": []
  }
 ],
 "metadata": {
  "kernelspec": {
   "display_name": "Python 3",
   "language": "python",
   "name": "python3"
  },
  "language_info": {
   "codemirror_mode": {
    "name": "ipython",
    "version": 3
   },
   "file_extension": ".py",
   "mimetype": "text/x-python",
   "name": "python",
   "nbconvert_exporter": "python",
   "pygments_lexer": "ipython3",
   "version": "3.6.6"
  }
 },
 "nbformat": 4,
 "nbformat_minor": 4
}
