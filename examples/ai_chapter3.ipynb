{
 "cells": [
  {
   "cell_type": "code",
   "execution_count": 1,
   "metadata": {},
   "outputs": [],
   "source": [
    "# 상위 폴더 경로 가져오기.\n",
    "from example_base import GetParentPath\n",
    "# 핑퐁 로봇 제어 모듈 import.\n",
    "from pingpongthread import PingPongThread"
   ]
  },
  {
   "cell_type": "code",
   "execution_count": 2,
   "metadata": {},
   "outputs": [
    {
     "name": "stdout",
     "output_type": "stream",
     "text": [
      "Found device: USB 직렬 장치(COM11)\n",
      "Serial connected.Write data: FF FF 10 FF 20 00 AD 00 0B 1A 10\n",
      "\n",
      "Connected with a master robot.\n",
      "Connected robots: 2\n",
      "Fully connected.\n"
     ]
    }
   ],
   "source": [
    "# 2개 로봇을 연결하는 인스턴스 생성.\n",
    "PingPongThreadInstance = PingPongThread(number=2, group_id=10)\n",
    "# 로봇 제어 쓰레드 시작.\n",
    "PingPongThreadInstance.start()\n",
    "# 모든 로봇이 연결될 때 까지 기다림.\n",
    "PingPongThreadInstance.wait_until_full_connect()"
   ]
  },
  {
   "cell_type": "code",
   "execution_count": 3,
   "metadata": {},
   "outputs": [
    {
     "data": {
      "text/plain": [
       "['Microsoft Sound Mapper - Input',\n",
       " '마이크 배열(Realtek High Defini',\n",
       " 'Microsoft Sound Mapper - Output',\n",
       " '스피커/헤드폰(Realtek High Defi']"
      ]
     },
     "execution_count": 3,
     "metadata": {},
     "output_type": "execute_result"
    }
   ],
   "source": [
    "# 오디오 장치의 리스트를 확인.\n",
    "PingPongThread.get_audio_list()"
   ]
  },
  {
   "cell_type": "code",
   "execution_count": null,
   "metadata": {},
   "outputs": [
    {
     "name": "stdout",
     "output_type": "stream",
     "text": [
      "스페이스 키를 누른 뒤 \"지금 몇 시야?\"라고 말해보세요!\n",
      "마이크를 인식하는 중입니다.\n",
      "결과: 안녕하세요\n",
      "스페이스 키를 누르고 다시 말씀해주세요!\n",
      "마이크를 인식하는 중입니다.\n"
     ]
    }
   ],
   "source": [
    "# 키보드 제어를 위한 모듈 import.\n",
    "import keyboard\n",
    "# 시간 제어를 위한 모듈 import.\n",
    "import time\n",
    "# 시간 정보를 받아오기 위한 모듈 import.\n",
    "import datetime\n",
    "\n",
    "# text 변수를 TTS(Text To Speech)를 하는 tts_ko 함수로 말하기. \n",
    "PingPongThreadInstance.tts_ko( \"스페이스 키를 누른 뒤 \\\"지금 몇 시야?\\\"라고 말해보세요!\", is_print=True)\n",
    "# 음성 인식을 하는 루프.\n",
    "while True:\n",
    "    # 스페이스 바 키가 눌렸으면 목소리 인식.\n",
    "    if keyboard.is_pressed(\" \"):\n",
    "        print(\"마이크를 인식하는 중입니다.\")\n",
    "        # voice_recognize_ko 함수로 목소리 인식. audio_input_index는 오디오 장치 리스트에서 확인한 마이크의 인덱스.\n",
    "        result = PingPongThreadInstance.voice_recognize_ko(audio_input_index=0)\n",
    "        print(\"결과:\", result)\n",
    "        # result에서 공백 지우기.\n",
    "        result = result.replace(\" \", \"\")\n",
    "        # 결과에 '지금 몇 시야'가 있으면 현재 시간을 읽어주고, 아니면 목소리 인식 다시.\n",
    "        if \"지금 몇 시야\".replace(\" \", \"\") in result:\n",
    "            # 루프에서 나감.\n",
    "            break\n",
    "        else:\n",
    "            PingPongThreadInstance.tts_ko(\"스페이스 키를 누르고 다시 말씀해주세요!\", is_print=True)\n",
    "    else:\n",
    "        time.sleep(0.1)\n",
    "# 현재 시간 가져와서 읽기.\n",
    "now = datetime.datetime.now()\n",
    "now_hour = now.hour\n",
    "now_minute = now.minute\n",
    "text = \"{}시 {}분 입니다.\".format(now_hour, now_minute)\n",
    "PingPongThreadInstance.tts_ko(text, is_print=True)\n",
    "# 현재 시각을 시계 각도로 변환. 단위는 바퀴.\n",
    "hour_cycle = (now_hour%12)/12\n",
    "minute_cycle = now_minute/60\n",
    "# 두 모터를 시계 각도만큼 돌리기.\n",
    "PingPongThreadInstance.run_motor_step(cube_ID_list=[1, 2], speed_list=15, step_list=[hour_cycle, minute_cycle])\n",
    "# 모터를 돌리는 시간 동안 쉬기. (5초)\n",
    "time.sleep(5)"
   ]
  },
  {
   "cell_type": "code",
   "execution_count": null,
   "metadata": {},
   "outputs": [],
   "source": [
    "# 로봇 제어 쓰레드 종료.\n",
    "PingPongThreadInstance.end()"
   ]
  },
  {
   "cell_type": "code",
   "execution_count": null,
   "metadata": {},
   "outputs": [],
   "source": []
  }
 ],
 "metadata": {
  "kernelspec": {
   "display_name": "Python 3",
   "language": "python",
   "name": "python3"
  },
  "language_info": {
   "codemirror_mode": {
    "name": "ipython",
    "version": 3
   },
   "file_extension": ".py",
   "mimetype": "text/x-python",
   "name": "python",
   "nbconvert_exporter": "python",
   "pygments_lexer": "ipython3",
   "version": "3.6.6"
  }
 },
 "nbformat": 4,
 "nbformat_minor": 4
}
