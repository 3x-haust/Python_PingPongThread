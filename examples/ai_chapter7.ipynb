{
 "cells": [
  {
   "cell_type": "code",
   "execution_count": 1,
   "metadata": {},
   "outputs": [],
   "source": [
    "# 상위 폴더 경로 가져오기.\n",
    "from example_base import GetParentPath\n",
    "# 핑퐁 로봇 제어 모듈 import.\n",
    "from pingpongthread import PingPongThread"
   ]
  },
  {
   "cell_type": "code",
   "execution_count": 2,
   "metadata": {},
   "outputs": [
    {
     "name": "stdout",
     "output_type": "stream",
     "text": [
      "Found device: USB 직렬 장치(COM11)\n",
      "Serial connected.Write data: FF FF 10 FF 20 00 AD 00 0B 1A 10\n",
      "\n",
      "Connected with a master robot.\n",
      "Connected robots: 2\n",
      "Fully connected.\n"
     ]
    }
   ],
   "source": [
    "# 2개 로봇을 연결하는 인스턴스 생성.\n",
    "PingPongThreadInstance = PingPongThread(number=2, group_id=10)\n",
    "# 로봇 제어 쓰레드 시작.\n",
    "PingPongThreadInstance.start()\n",
    "# 모든 로봇이 연결될 때 까지 기다림.\n",
    "PingPongThreadInstance.wait_until_full_connect()"
   ]
  },
  {
   "cell_type": "code",
   "execution_count": 3,
   "metadata": {},
   "outputs": [
    {
     "name": "stdout",
     "output_type": "stream",
     "text": [
      "안전벨트를 매주세요. 320 미터 직진입니다.\n",
      "Write data: FF FF 10 AA 20 00 CD 00 33 02 01 00 00 FF FF 10 00 20 00 C1 00 13 02 01 00 02 FC 7C 00 00 06 F2 FF FF 10 01 20 00 C1 00 13 02 01 00 02 03 84 00 00 06 F2\n",
      "Aggregator set.\n",
      "2초간 멈추세요.\n",
      "200미터 앞 우회전입니다.\n",
      "Write data: FF FF 10 AA 20 00 CD 00 33 02 01 00 00 FF FF 10 00 20 00 C1 00 13 02 01 00 02 FC 7C 00 00 04 57 FF FF 10 01 20 00 C1 00 13 02 01 00 02 03 84 00 00 04 57\n",
      "Aggregator set.\n",
      "우회전해 주세요.\n",
      "Write data: FF FF 10 AA 20 00 CD 00 33 02 01 00 00 FF FF 10 00 20 00 C1 00 13 02 01 00 02 FC 7C 00 00 02 52 FF FF 10 01 20 00 C1 00 13 02 01 00 02 FC 7C 00 00 02 52\n",
      "Aggregator set.\n",
      "500미터 직진입니다.\n",
      "Write data: FF FF 10 AA 20 00 CD 00 33 02 01 00 00 FF FF 10 00 20 00 C1 00 13 02 01 00 02 FC 7C 00 00 0A DA FF FF 10 01 20 00 C1 00 13 02 01 00 02 03 84 00 00 0A DA\n",
      "Aggregator set.\n",
      "신호등이 있습니다. 잠시 기다려주세요.\n",
      "300미터 전방 목적지가 있습니다.\n",
      "Write data: FF FF 10 AA 20 00 CD 00 33 02 01 00 00 FF FF 10 00 20 00 C1 00 13 02 01 00 02 FC 7C 00 00 06 83 FF FF 10 01 20 00 C1 00 13 02 01 00 02 03 84 00 00 06 83\n",
      "Aggregator set.\n",
      "목적지에 도착했습니다.\n"
     ]
    }
   ],
   "source": [
    "# 시간 제어를 위한 모듈 import.\n",
    "import time\n",
    "\n",
    "### 320도 앞으로 회전.\n",
    "PingPongThreadInstance.tts_ko(\"안전벨트를 매주세요. 320 미터 직진입니다.\", is_print=True) # TTS로 말하고 출력.\n",
    "time.sleep(2)\n",
    "angle = 320/360 # 회전의 단위는 바퀴(rotation).\n",
    "PingPongThreadInstance.run_motor_step([1, 2], 15, [-angle, angle]) # 15RPM으로 모터 돌리기.\n",
    "time.sleep(angle/15*60) # 모터 돌리는 시간 동안 정지.\n",
    "### 2초 정지.\n",
    "PingPongThreadInstance.tts_ko(\"2초간 멈추세요.\", is_print=True) # TTS로 말하고 출력.\n",
    "time.sleep(2)\n",
    "### 200도 앞으로 회전.\n",
    "PingPongThreadInstance.tts_ko(\"200미터 앞 우회전입니다.\", is_print=True) # TTS로 말하고 출력.\n",
    "time.sleep(1)\n",
    "angle = 200/360 # 회전의 단위는 바퀴(rotation).\n",
    "PingPongThreadInstance.run_motor_step([1, 2], 15, [-angle, angle]) # 15RPM으로 모터 돌리기.\n",
    "time.sleep(angle/15*60) # 모터 돌리는 시간 동안 정지.\n",
    "### 107도를 돌려 우회전.\n",
    "PingPongThreadInstance.tts_ko(\"우회전해 주세요.\", is_print=True) # TTS로 말하고 출력.\n",
    "time.sleep(1)\n",
    "angle = 107/360 # 회전의 단위는 바퀴(rotation).\n",
    "PingPongThreadInstance.run_motor_step([1, 2], 15, [-angle, -angle]) # 15RPM으로 모터 돌리기.\n",
    "time.sleep(angle/15*60) # 모터 돌리는 시간 동안 정지.\n",
    "### 500도 앞으로 회전.\n",
    "PingPongThreadInstance.tts_ko(\"500미터 직진입니다.\", is_print=True) # TTS로 말하고 출력.\n",
    "time.sleep(1)\n",
    "angle = 500/360 # 회전의 단위는 바퀴(rotation).\n",
    "PingPongThreadInstance.run_motor_step([1, 2], 15, [-angle, angle]) # 15RPM으로 모터 돌리기.\n",
    "time.sleep(angle/15*60) # 모터 돌리는 시간 동안 정지.\n",
    "### 5초 정지.\n",
    "PingPongThreadInstance.tts_ko(\"신호등이 있습니다. 잠시 기다려주세요.\", is_print=True) # TTS로 말하고 출력.\n",
    "time.sleep(5)\n",
    "### 300도 앞으로 회전.\n",
    "PingPongThreadInstance.tts_ko(\"300미터 전방 목적지가 있습니다.\", is_print=True) # TTS로 말하고 출력.\n",
    "time.sleep(1)\n",
    "angle = 300/360 # 회전의 단위는 바퀴(rotation).\n",
    "PingPongThreadInstance.run_motor_step([1, 2], 15, [-angle, angle]) # 15RPM으로 모터 돌리기.\n",
    "time.sleep(angle/15*60) # 모터 돌리는 시간 동안 정지.\n",
    "### 도착.\n",
    "PingPongThreadInstance.tts_ko(\"목적지에 도착했습니다.\", is_print=True) # TTS로 말하고 출력."
   ]
  },
  {
   "cell_type": "code",
   "execution_count": 4,
   "metadata": {},
   "outputs": [
    {
     "name": "stdout",
     "output_type": "stream",
     "text": [
      "Write data: FF FF FF FF 00 00 A8 00 0A 01\n",
      "Disconnect master robot.\n",
      "Serial disconnected. Sleep 3 seconds.\n",
      "End thread.\n"
     ]
    }
   ],
   "source": [
    "# 로봇 제어 쓰레드 종료.\n",
    "PingPongThreadInstance.end()"
   ]
  },
  {
   "cell_type": "code",
   "execution_count": null,
   "metadata": {},
   "outputs": [],
   "source": []
  }
 ],
 "metadata": {
  "kernelspec": {
   "display_name": "Python 3",
   "language": "python",
   "name": "python3"
  },
  "language_info": {
   "codemirror_mode": {
    "name": "ipython",
    "version": 3
   },
   "file_extension": ".py",
   "mimetype": "text/x-python",
   "name": "python",
   "nbconvert_exporter": "python",
   "pygments_lexer": "ipython3",
   "version": "3.6.6"
  }
 },
 "nbformat": 4,
 "nbformat_minor": 4
}
